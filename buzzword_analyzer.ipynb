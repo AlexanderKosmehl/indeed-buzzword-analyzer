{
 "cells": [
  {
   "cell_type": "markdown",
   "metadata": {},
   "source": [
    "# Buzzword Analyzer"
   ]
  },
  {
   "cell_type": "code",
   "execution_count": 2,
   "metadata": {},
   "outputs": [],
   "source": [
    "# Import functions from analyzer\n",
    "from analyzer import *"
   ]
  },
  {
   "cell_type": "code",
   "execution_count": 3,
   "metadata": {},
   "outputs": [],
   "source": [
    "buzzwords = [\"HTML\", \"CSS\", \"Java\"]"
   ]
  },
  {
   "cell_type": "code",
   "execution_count": null,
   "metadata": {},
   "outputs": [],
   "source": [
    "title = \"Entwickler\"\n",
    "\n",
    "entwickler_job_descriptions = getJobDescriptions(title, \"Köln\", 1)\n",
    "entwickler_buzzword_counts = getBuzzwordCounts(entwickler_job_descriptions, buzzwords)\n",
    "entwickler_sorted_counts = getSortedBuzzwordCounts(entwickler_buzzword_counts)\n",
    "\n",
    "# Plots the results\n",
    "plt.title(\"Buzzword Analysis\")\n",
    "plt.xlabel(\"Buzzword\")\n",
    "plt.ylabel(\"Occurences\")\n",
    "plt.bar(entwickler_sorted_counts.keys(), entwickler_sorted_counts.values())\n",
    "plt.show()"
   ]
  }
 ],
 "metadata": {
  "interpreter": {
   "hash": "4ce0e62306dd6a5716965d4519ada776f947e6dfc145b604b11307c10277ef29"
  },
  "kernelspec": {
   "display_name": "Python 3.8.8 64-bit ('base': conda)",
   "language": "python",
   "name": "python3"
  },
  "language_info": {
   "codemirror_mode": {
    "name": "ipython",
    "version": 3
   },
   "file_extension": ".py",
   "mimetype": "text/x-python",
   "name": "python",
   "nbconvert_exporter": "python",
   "pygments_lexer": "ipython3",
   "version": "3.8.8"
  },
  "orig_nbformat": 4
 },
 "nbformat": 4,
 "nbformat_minor": 2
}
